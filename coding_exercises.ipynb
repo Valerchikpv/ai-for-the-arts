{
 "cells": [
  {
   "cell_type": "markdown",
   "id": "a1a52fbc",
   "metadata": {},
   "source": [
    "# My Coding Notebook\n",
    "\n",
    "This notebook is part of my portfolio for *AI for the Arts and Humanities*.  \n",
    "Its purpose is to document my progress in learning basic Python programming concepts.\n",
    "\n",
    "## Goals\n",
    "- Learn how to write and run Python code\n",
    "- Explore data through visual and audio media\n",
    "- Use GitHub and Codespaces efficiently\n",
    "- Present technical ideas to a broader audience\n"
   ]
  },
  {
   "cell_type": "code",
   "execution_count": 3,
   "id": "c9af13b5",
   "metadata": {},
   "outputs": [
    {
     "name": "stdout",
     "output_type": "stream",
     "text": [
      "Hello World!\n"
     ]
    }
   ],
   "source": [
    "print(\"Hello World!\")"
   ]
  },
  {
   "cell_type": "markdown",
   "id": "f3bc81f9",
   "metadata": {},
   "source": [
    "\n",
    "# Hello, World!\n",
    "\n",
    "The following code was created as my first attempt at programming in this course.  \n",
    "It is meant to help me understand how to write and run code in GitHub Codespaces.\n"
   ]
  },
  {
   "cell_type": "markdown",
   "id": "8d65f461",
   "metadata": {},
   "source": []
  }
 ],
 "metadata": {
  "kernelspec": {
   "display_name": "Python 3",
   "language": "python",
   "name": "python3"
  },
  "language_info": {
   "codemirror_mode": {
    "name": "ipython",
    "version": 3
   },
   "file_extension": ".py",
   "mimetype": "text/x-python",
   "name": "python",
   "nbconvert_exporter": "python",
   "pygments_lexer": "ipython3",
   "version": "3.12.1"
  }
 },
 "nbformat": 4,
 "nbformat_minor": 5
}
