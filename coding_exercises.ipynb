{
 "cells": [
  {
   "cell_type": "markdown",
   "id": "a1a52fbc",
   "metadata": {},
   "source": [
    "# My Coding Notebook\n",
    "\n",
    "This notebook is part of my portfolio for *AI for the Arts and Humanities*.  \n",
    "Its purpose is to document my progress in learning basic Python programming concepts.\n",
    "\n",
    "## Goals\n",
    "- Learn how to write and run Python code\n",
    "- Explore data through visual and audio media\n",
    "- Use GitHub and Codespaces efficiently\n",
    "- Present technical ideas to a broader audience\n"
   ]
  },
  {
   "cell_type": "code",
   "execution_count": 3,
   "id": "c9af13b5",
   "metadata": {},
   "outputs": [
    {
     "name": "stdout",
     "output_type": "stream",
     "text": [
      "Hello World!\n"
     ]
    }
   ],
   "source": [
    "print(\"Hello World!\")"
   ]
  },
  {
   "cell_type": "markdown",
   "id": "f3bc81f9",
   "metadata": {},
   "source": [
    "\n",
    "# Hello, World!\n",
    "\n",
    "The following code was created as my first attempt at programming in this course.  \n",
    "It is meant to help me understand how to write and run code in GitHub Codespaces.\n"
   ]
  },
  {
   "cell_type": "markdown",
   "id": "8d65f461",
   "metadata": {},
   "source": [
    "# Printing\n",
    "\n",
    "Absolutely! Here's a simple Python code to print \"Hello, world!\" and a stepby-step explanation:\n",
    "print(\"Hello, world!\")\n",
    "Step-by-Step Explanation:\n",
    "1. print: This is a built-in Python function used to display output. Functions\n",
    "are reusable pieces of code that perform a specific task. In this case, print\n",
    "is used to output text to the screen.\n",
    "\n",
    "2. (\"Hello, world!\"): The text inside the parentheses is called a string. A\n",
    "string is a sequence of characters enclosed in quotation marks. Here,\n",
    "\"Hello, world!\" is the string we want to print.\n",
    "\n",
    "3. Quotation Marks: In Python, strings can be enclosed in either single (') or\n",
    "double (\") quotation marks. Both work the same way, but it's important to\n",
    "be consistent.\n",
    "\n",
    "4. Parentheses (): These are used to pass arguments to functions. In this\n",
    "case, the string \"Hello, world!\" is the argument passed to the print\n",
    "function.\n",
    "\n",
    "When you run this code, Python executes the print function, which takes the\n",
    "string \"Hello, world!\" and displays it on the screen.\n",
    "\n",
    "Key Aspects:\n",
    "\n",
    "    o Simplicity: This code is very simple and is often the first program written\n",
    "    by beginners to understand the basic syntax of a programming language.\n",
    "\n",
    "    o Function Call: Understanding how to call functions and pass arguments\n",
    "    is fundamental in programming.\n",
    "\n",
    "    o Strings: Learning how to work with strings is essential since they are used\n",
    "    frequently in programming"
   ]
  },
  {
   "cell_type": "code",
   "execution_count": 1,
   "id": "8a96196b",
   "metadata": {},
   "outputs": [
    {
     "name": "stdout",
     "output_type": "stream",
     "text": [
      "Hello, world!\n"
     ]
    }
   ],
   "source": [
    "greeting = \"Hello, world!\"\n",
    "print(greeting)\n"
   ]
  },
  {
   "cell_type": "markdown",
   "id": "a6fd5b67",
   "metadata": {},
   "source": [
    "## Concept: Variables\n",
    "\n",
    "### Prompt:\n",
    "Could you suggest a modification of the Python code for “Hello, world!” to demonstrate the concept of variables to a complete beginner in programming? Please explain the code step-by-step highlighting any key aspects\n",
    "\n",
    "### 1. Define a variable: \n",
    "greeting = \"Hello, world!\"\n",
    "\n",
    "\n",
    "\n",
    "### 2. Variable: A variable is a name that can hold a value. In this case, greeting is the variable name.\n",
    "Assignment: The = sign is used to assign a value to the variable. Here, \"Hello, world!\" is the value assigned to greeting.\n",
    "String: The value \"Hello, world!\" is a string, which is a sequence of characters enclosed in quotes.\n",
    "Print the variable's value:\n",
    "\n",
    "\n",
    "### 3. print() function: This function is used to display output on the screen.\n",
    "Variable usage: By passing the variable greeting to the print() function, we tell Python to display the value stored in greeting.\n",
    "Key Aspects:\n",
    "Variables: They allow you to store and reuse values, making your code more flexible and readable.\n",
    "Assignment: The process of assigning values to variables using the = sign.\n",
    "Strings: A type of data used to represent text.\n"
   ]
  },
  {
   "cell_type": "code",
   "execution_count": null,
   "id": "82f36b71",
   "metadata": {},
   "outputs": [
    {
     "data": {
      "text/plain": [
       "'Hello, world!'"
      ]
     },
     "execution_count": 2,
     "metadata": {},
     "output_type": "execute_result"
    }
   ],
   "source": [
    "def greetings():\n",
    "    greeting = \"Hello, world!\"\n",
    "    return greeting\n",
    "greetings()\n"
   ]
  },
  {
   "cell_type": "markdown",
   "id": "22a40184",
   "metadata": {},
   "source": [
    "### 1. Define a function: def greetings()\n",
    "\n",
    "- Function: A function is a block of code that performs a specific task. It can be reused multiple times.\n",
    "def keyword: This keyword is used to define a function.\n",
    "- Function name: greetings is the name of the function. You can choose any name that describes what the function does.\n",
    "- Parentheses: () are used to define parameters for the function. In this case, there are no parameters.\n",
    "\n",
    "### 2. Inside the function, define a variable:\n",
    "greeting = \"Hello, world!\"\n",
    "\n",
    "This step is similar to the previous example, where we define a variable greeting and assign it the value \"Hello, world!\".\n",
    "### 3. Return the variable's value:\n",
    "return greeting\n",
    "\n",
    "This step is also similar to the previous example, where we use the print() function to display the value of greeting.\n",
    "Call the function: greetings()\n",
    "\n",
    "\n",
    "### 4. Function call: \n",
    "To execute the code inside the function, you need to call it by its name followed by parentheses. Here, greetings() calls the greet function, which runs the code inside it.\n",
    "\n",
    "### Key Aspects:\n",
    "- Functions: They allow you to organize your code into reusable blocks, making it more modular and easier to manage.\n",
    "- Function definition: Using the def keyword to define a function.\n",
    "- Function call: Executing a function by calling it with its name and parentheses."
   ]
  },
  {
   "cell_type": "code",
   "execution_count": null,
   "id": "cb458658",
   "metadata": {},
   "outputs": [
    {
     "name": "stdout",
     "output_type": "stream",
     "text": [
      "Hello, world!\n",
      "Hello, world!\n",
      "Hello, world!\n",
      "Hello, world!\n",
      "Hello, world!\n"
     ]
    },
    {
     "data": {
      "text/plain": [
       "(0, 'Hello World!')"
      ]
     },
     "execution_count": 7,
     "metadata": {},
     "output_type": "execute_result"
    }
   ],
   "source": [
    "# Step 1: Define a variable\n",
    "greeting = \"Hello, world!\"\n",
    "\n",
    "# Step 2: Use a for loop to repeat the greeting\n",
    "for i in range(5):\n",
    "    # Step 3: Print the greeting\n",
    "    print(greeting)\n",
    "\n",
    "\n",
    "# for learning functions\n",
    "def greetings_fn(n, text):\n",
    "    for i in range(n):\n",
    "        print(i, text)\n",
    "greetings_fn(5, \"Hello World!\")\n"
   ]
  },
  {
   "cell_type": "markdown",
   "id": "06c92bda",
   "metadata": {},
   "source": [
    "### Prompt:\n",
    "Could you suggest a modification of the Python code for “Hello, world!” to demonstrate the concept of loops to a complete beginner in programming? Please explain the code step-by-step highlighting any key aspects.\n",
    "\n",
    "### Code Explanation:\n",
    "This example defines a **function** called `greetings_fn` which takes two parameters:\n",
    "- `n`: the number of times to repeat\n",
    "- `text`: the message to print\n",
    "\n",
    "Inside the function, there is a **`for` loop** which runs `n` times. In each loop iteration, it prints the current count (`i`) and the text.\n",
    "\n",
    "### Step-by-Step:\n",
    "1. `def greetings_fn(n, text):`  \n",
    "   This defines a function with two arguments: how many times to print (`n`) and what to print (`text`).\n",
    "\n",
    "2. `for i in range(n):`  \n",
    "   A `for` loop is used to repeat something `n` times. The variable `i` starts at 0 and increases by 1 each time.\n",
    "\n",
    "3. `print(i, text)`  \n",
    "   This prints the loop counter and the message.\n",
    "\n",
    "4. `greetings_fn(5, \"Hello World!\")`  \n",
    "   This **calls** the function with `n=5` and `text=\"Hello World!\"`.\n",
    "\n",
    "### Output:\n",
    "0 Hello World! 1 Hello World! 2 Hello World! 3 Hello World! 4 Hello World!\n",
    "\n",
    "### Learning Outcomes:\n",
    "- Understood how to define a function with parameters\n",
    "- Learned how to use a `for` loop to repeat an action\n",
    "- Practiced calling a function with custom values"
   ]
  },
  {
   "cell_type": "code",
   "execution_count": null,
   "id": "abb4597b",
   "metadata": {},
   "outputs": [],
   "source": [
    "# Step 1: Define a list\n",
    "greetings = [\"Hello, world!\", \"Hi, there!\", \"Greetings!\", \"Salutations!\", \"Howdy!\"]\n",
    "\n",
    "# Step 2: Use a for loop to print each greeting in the list\n",
    "for greeting in greetings:\n",
    "    print(greeting)\n",
    "\n"
   ]
  },
  {
   "cell_type": "markdown",
   "id": "9738753b",
   "metadata": {},
   "source": [
    "## Step-by-Step Breakdown\n",
    "\n",
    "### Define a List\n",
    "\n",
    "- **List**: A list is a collection of items stored in a single variable. Lists are defined using square brackets `[]`.\n",
    "- **Items**: Each item in the list is separated by a comma.  \n",
    "  In this case, the list `greetings` contains five different greeting strings.\n",
    "\n",
    "### Use a `for` Loop to Print Each Greeting in the List\n",
    "\n",
    "- **for loop**: A loop that iterates over each item in the list.\n",
    "- **Loop variable**: `greeting` is the loop variable that takes on each value in the list `greetings` during each iteration.\n",
    "- **Loop body**: The code inside the loop (indented) is executed once for each item in the list.  \n",
    "  Here, `print(greeting)` is executed for each greeting in the list.\n",
    "\n",
    "\n",
    "### Key Aspects\n",
    "\n",
    "- **Lists**: Allow you to store multiple items in a single variable, making it easier to manage collections of data.\n",
    "- **List definition**: Use square brackets `[]` to define a list and separate items with commas.\n",
    "- **for loop**: Iterates over each item in the list, allowing you to perform actions on each item.\n",
    "- **Loop variable**: Takes on each value in the list during each iteration of the loop.\n"
   ]
  },
  {
   "cell_type": "code",
   "execution_count": null,
   "id": "64d5b9c9",
   "metadata": {},
   "outputs": [
    {
     "name": "stdout",
     "output_type": "stream",
     "text": [
      "In English: Hello, world!\n",
      "In Spanish: ¡Hola, mundo!\n",
      "In French: Bonjour, le monde!\n",
      "In German: Hallo, Welt!\n",
      "In Japanese: こんにちは、世界！\n"
     ]
    }
   ],
   "source": [
    "# Step 1: Define a dictionary\n",
    "greetings = {\n",
    "    \"English\": \"Hello, world!\",\n",
    "    \"Spanish\": \"¡Hola, mundo!\",\n",
    "    \"French\": \"Bonjour, le monde!\",\n",
    "    \"German\": \"Hallo, Welt!\",\n",
    "    \"Japanese\": \"こんにちは、世界！\"\n",
    "}\n",
    "\n",
    "# Step 2: Use a for loop to print each greeting in the dictionary\n",
    "for language, greeting in greetings.items():\n",
    "    print(f\"In {language}: {greeting}\")\n",
    "\n",
    "\n"
   ]
  },
  {
   "cell_type": "markdown",
   "id": "90895f5a",
   "metadata": {},
   "source": [
    "### Step-by-Step Explanation\n",
    "\n",
    "#### Define a Dictionary\n",
    "\n",
    "- **Dictionary**: A dictionary is a collection of key-value pairs.\n",
    "- **Keys and Values**: Each key is unique and maps to a specific value.  \n",
    "  In this example, the keys are languages (e.g., `\"English\"`) and the values are greetings (e.g., `\"Hello, world!\"`).\n",
    "\n",
    "#### Use a `for` Loop to Print Each Greeting\n",
    "\n",
    "- **for loop**: Iterates over each key-value pair in the dictionary.\n",
    "- **`items()` method**: Returns all key-value pairs in the dictionary as tuples.\n",
    "- **Formatted string**:  \n",
    "  `f\"In {language}: {greeting}\"` inserts the current key and value into the output string.\n",
    "\n",
    "###  Key Aspects\n",
    "\n",
    "- **Dictionaries** store data in key-value pairs, making it easy to associate related information.\n",
    "- **Keys** must be unique and are used to retrieve corresponding **values**.\n",
    "- The **`items()`** method is used to loop through both keys and values.\n",
    "- **Formatted strings** using `f\"\"` allow combining variables and text into readable output.\n"
   ]
  },
  {
   "cell_type": "markdown",
   "id": "6beabc84",
   "metadata": {},
   "source": []
  },
  {
   "cell_type": "code",
   "execution_count": null,
   "id": "a7ecc2a1",
   "metadata": {},
   "outputs": [],
   "source": [
    "# Step 1: Define a list\n",
    "greetings = [\"Hello, world!\", \"Hi, there!\", \"Greetings!\", \"Salutations!\", \"Howdy!\"]\n",
    "\n",
    "# Step 2: Use a for loop to print each greeting in the list\n",
    "for greeting in greetings:\n",
    "    print(greeting)\n"
   ]
  },
  {
   "cell_type": "markdown",
   "id": "5c192bb2",
   "metadata": {},
   "source": [
    "## Concept: Arrays in Python (Using Lists)\n",
    "\n",
    "### Prompt:\n",
    "**Could you suggest a modification of the Python code for “Hello, world!” to demonstrate the concept of arrays to a complete beginner in programming? Please explain the code step-by-step highlighting any key aspects.**\n",
    "\n",
    "### Step-by-Step Explanation\n",
    "\n",
    "#### Step 1: Define a List (Array)\n",
    "- **Array/List**: In Python, we typically use a data structure called a **list**, which functions similarly to arrays in other programming languages.\n",
    "- **Syntax**: Lists are created using **square brackets `[ ]`**, and items are separated by **commas**.\n",
    "- In this example, `greetings` is a list that stores **multiple greeting strings**.\n",
    "\n",
    "#### Step 2: Use a `for` Loop\n",
    "- **`for` loop**: Used to iterate over each item in the list.\n",
    "- **Loop variable**: `greeting` is a temporary variable that holds the current item from the list.\n",
    "- **Loop body**: Executes `print(greeting)` for every greeting in the list.\n",
    "\n",
    "### Key Aspects\n",
    "\n",
    "- **Lists as Arrays**: Python uses lists as a flexible and dynamic alternative to traditional arrays.\n",
    "- **Elements**: Each value in the list is called an **element**. They can be strings, numbers, or other data types.\n",
    "- **Indexing**: Lists are **ordered**, and elements can be accessed by their index (e.g., `greetings[0]` gives the first element).\n",
    "- **Looping**: A `for` loop is a simple way to process each item in a list without knowing its length.\n",
    "\n",
    "### Learning Outcomes\n",
    "\n",
    "- Learned that **Python lists** are commonly used in place of traditional arrays.\n",
    "- Understood how to **store multiple values** in one variable using a list.\n",
    "- Practiced **looping through elements** with a `for` loop to access and print each value.\n"
   ]
  },
  {
   "cell_type": "code",
   "execution_count": 9,
   "id": "84dd7064",
   "metadata": {},
   "outputs": [
    {
     "name": "stdout",
     "output_type": "stream",
     "text": [
      "Hello, world! The current date and time is: 2025-04-15 19:27:45.634529\n"
     ]
    }
   ],
   "source": [
    "# Step 1: Import the datetime library\n",
    "import datetime\n",
    "\n",
    "# Step 2: Use the library to print the current date and time\n",
    "print(\"Hello, world! The current date and time is:\", datetime.datetime.now())\n"
   ]
  },
  {
   "cell_type": "markdown",
   "id": "be0de4e1",
   "metadata": {},
   "source": [
    "## Concept: Importing Libraries in Python\n",
    "\n",
    "### Prompt:\n",
    "**Could you suggest a modification of the Python code for “Hello, world!” to demonstrate the concept of importing libraries to a complete beginner in programming? Please explain the code step-by-step highlighting any key aspects.**\n",
    "\n",
    "### Step-by-Step Explanation\n",
    "\n",
    "#### Step 1: Import a Library\n",
    "- **Libraries** in Python are collections of pre-written code that provide extra functionality.\n",
    "- The `import` statement is used to bring external libraries into your program.\n",
    "- In this example, we import the **`datetime`** library, which helps with working with dates and times.\n",
    "\n",
    "#### Step 2: Use a Function from the Library\n",
    "- We call a function from the library using **dot notation**: `module.function()`.\n",
    "- `datetime.datetime.now()` returns the current date and time.\n",
    "- We **combine** this with a print statement to show a message and the current time.\n",
    "\n",
    "###  Key Aspects\n",
    "- import statement: Allows you to bring external modules into your script.\n",
    "- datetime module: A built-in Python module used for handling dates and times.\n",
    "- Dot notation: Access functions or attributes from within an imported module.\n",
    "- Combining output: You can combine static text (like \"Hello, world!\") with dynamic content (like datetime.datetime.now()).\n",
    "\n"
   ]
  },
  {
   "cell_type": "code",
   "execution_count": 10,
   "id": "9f7697f9",
   "metadata": {},
   "outputs": [
    {
     "name": "stdout",
     "output_type": "stream",
     "text": [
      "¡Hola, mundo!\n"
     ]
    }
   ],
   "source": [
    "# Step 1: Define the language preference\n",
    "language = \"Spanish\"\n",
    "\n",
    "# Step 2: Use conditional statements to print greetings\n",
    "if language == \"English\":\n",
    "    print(\"Hello, world!\")\n",
    "elif language == \"Spanish\":\n",
    "    print(\"¡Hola, mundo!\")\n",
    "elif language == \"French\":\n",
    "    print(\"Bonjour le monde!\")\n",
    "else:\n",
    "    print(\"Hello, world! (default)\")"
   ]
  },
  {
   "cell_type": "markdown",
   "id": "ab9daaa0",
   "metadata": {},
   "source": []
  },
  {
   "cell_type": "markdown",
   "id": "bc4dedd1",
   "metadata": {},
   "source": [
    "## Concept: Conditional Statements (`if`, `elif`, `else`)\n",
    "\n",
    "### Prompt:\n",
    "**Could you suggest a modification of the Python code for “Hello, world!” to demonstrate the concepts of if, elif, and else statements to a complete beginner in programming? Please explain the code step-by-step highlighting any key aspects.**\n",
    "\n",
    "### Step-by-Step Explanation\n",
    "\n",
    "#### Step 1: Define a Variable\n",
    "- We create a variable `language` to simulate a user's language preference.\n",
    "\n",
    "#### Step 2: Use Conditional Statements\n",
    "- **`if`** checks the first condition.\n",
    "- **`elif`** (else if) checks an additional condition if the first is false.\n",
    "- **`else`** provides a default action if none of the above conditions are true.\n",
    "\n",
    "\n",
    "### Key Aspects\n",
    "- if statement: Executes the code block only if the condition is True.\n",
    "- elif statement: Lets you check multiple conditions, one after another.\n",
    "- else statement: Catches anything not caught by the previous conditions.\n",
    "- Comparison operator (==): Checks if the variable equals a specific value.\n",
    "- You can easily expand this structure to include more languages or conditions.\n",
    "\n",
    "\n"
   ]
  },
  {
   "cell_type": "code",
   "execution_count": 11,
   "id": "842e1856",
   "metadata": {},
   "outputs": [
    {
     "name": "stdout",
     "output_type": "stream",
     "text": [
      "Sum of numbers: 8\n",
      "Product of numbers: 15\n",
      "Concatenated string: Hello, world!\n",
      "Repeated greeting: Hello! Hello! Hello! \n"
     ]
    }
   ],
   "source": [
    "# Addition with numbers\n",
    "a = 5\n",
    "b = 3\n",
    "sum_result = a + b\n",
    "print(\"Sum of numbers:\", sum_result)\n",
    "\n",
    "# Multiplication with numbers\n",
    "product_result = a * b\n",
    "print(\"Product of numbers:\", product_result)\n",
    "\n",
    "# Addition with strings (concatenation)\n",
    "greeting = \"Hello, \" + \"world!\"\n",
    "print(\"Concatenated string:\", greeting)\n",
    "\n",
    "# Multiplication with strings (repetition)\n",
    "repeat_hello = \"Hello! \" * 3\n",
    "print(\"Repeated greeting:\", repeat_hello)\n"
   ]
  },
  {
   "cell_type": "markdown",
   "id": "0ddbc278",
   "metadata": {},
   "source": [
    "## Concept: Using Operators in Python\n",
    "\n",
    "### Prompt:\n",
    "Could you suggest a modification of the Python code for “Hello, world!” to demonstrate the concept of operators to a complete beginner in programming? Please explain the code step-by-step highlighting any key aspects. Include discussions about addition and multiplication between strings and numbers.\n",
    "\n",
    "### Step-by-Step Explanation\n",
    "\n",
    "#### Step 1: Understand Operators\n",
    "- Operators are symbols that perform operations on variables or values.\n",
    "- Python supports many operators like `+` (addition), `*` (multiplication), `-` (subtraction), `/` (division), etc.\n",
    "- In this example, we'll focus on:\n",
    "  - String addition: joining (concatenating) two strings\n",
    "  - String multiplication: repeating a string multiple times\n",
    "  - Number operations: using addition and multiplication with integers\n",
    "\n",
    "\n",
    "### Key Aspects\n",
    "- `+` operator:\n",
    "\n",
    "  - With numbers: adds values together.\n",
    "\n",
    "  - With strings: joins them into one longer string (concatenation).\n",
    "\n",
    "- `*` operator:\n",
    "\n",
    "  - With numbers: multiplies values.\n",
    "\n",
    "  - With strings and an integer: repeats the string that number of times.\n",
    "\n",
    "  - Python automatically interprets the context — type matters.\n",
    "\n",
    "\n"
   ]
  },
  {
   "cell_type": "markdown",
   "id": "b716451f",
   "metadata": {},
   "source": []
  },
  {
   "cell_type": "code",
   "execution_count": 12,
   "id": "ec12cbe4",
   "metadata": {},
   "outputs": [
    {
     "name": "stdout",
     "output_type": "stream",
     "text": [
      "Hello, world!\n"
     ]
    }
   ],
   "source": [
    "# Step 1: Define a class\n",
    "class Greeter:\n",
    "    def greet(self):\n",
    "        print(\"Hello, world!\")\n",
    "\n",
    "# Step 2: Create an object\n",
    "my_greeter = Greeter()\n",
    "\n",
    "# Step 3: Call the method\n",
    "my_greeter.greet()"
   ]
  },
  {
   "cell_type": "markdown",
   "id": "83284fff",
   "metadata": {},
   "source": [
    "## Concept: Classes, Objects, and Methods in Python\n",
    "\n",
    "### Prompt:\n",
    "Could you suggest a modification of the Python code for “Hello, world!” to demonstrate the concept of classes, objects and methods to a complete beginner in programming? Please explain the code step-by-step highlighting any key aspects.\n",
    "\n",
    "### Step-by-Step Explanation\n",
    "\n",
    "#### Step 1: Define a Class\n",
    "- A **class** is a blueprint for creating objects. It bundles data (attributes) and behavior (methods) together.\n",
    "- We define a class using the `class` keyword.\n",
    "- Inside the class, we define a method called `greet` which prints a message.\n",
    "\n",
    "#### Step 2: Create an Object\n",
    "- An **object** is an instance of a class — a specific version created from the blueprint.\n",
    "- We create an object by calling the class like a function: `my_greeter = Greeter()`\n",
    "\n",
    "#### Step 3: Call a Method on the Object\n",
    "- A **method** is a function defined inside a class.\n",
    "- We call the method using **dot notation**: `object.method()`\n",
    "\n",
    "\n",
    "### Key Aspects\n",
    "- Class: A way to group data and functions together.\n",
    "\n",
    "- Method: A function inside a class. The first parameter is always self, which refers to the object itself.\n",
    "\n",
    "- Object: A specific instance of the class.\n",
    "\n",
    "- Dot notation: Used to call methods on objects (e.g., my_greeter.greet()).\n",
    "\n"
   ]
  },
  {
   "cell_type": "markdown",
   "id": "c4fa9098",
   "metadata": {},
   "source": [
    "### Prompt:\n",
    "Could you use the examples you have provided above to explain basic syntax of Python to a complete beginner in programming? Please explain step-by-step highlighting any key aspects. Please include well known references to Python styling guides.\n",
    "\n",
    "# Understanding Basic Python Syntax\n",
    "\n",
    "Welcome to your first steps in Python programming! Python is known for its clean and readable syntax, making it a great language for beginners.\n",
    "\n",
    "This section introduces you to **key elements of Python syntax** with simple examples and best practices. You’ll also find references to the official Python style guides to help you write beautiful, maintainable code.\n",
    "\n",
    "## Key Aspects of Python Syntax\n",
    "\n",
    "- **Whitespace & Indentation**  \n",
    "  Python uses **indentation** (typically 4 spaces) to define code blocks — no curly braces `{}` like in other languages.  \n",
    "  Consistent indentation is essential to avoid errors.\n",
    "\n",
    "- **Case Sensitivity**  \n",
    "  Python treats `name` and `Name` as different identifiers. Always be mindful of letter casing.\n",
    "\n",
    "- **No Semicolons Needed**  \n",
    "  Statements typically **do not require semicolons** at the end. You can use them, but it's uncommon in Python.\n",
    "\n",
    "- **Functions**  \n",
    "  Functions are defined using the `def` keyword and follow **snake_case** naming as per PEP 8.\n",
    "\n",
    "- **Variables**  \n",
    "  Variables don’t need explicit type declarations. Python is **dynamically typed** — types are inferred at runtime.\n",
    "\n",
    "- **Comments**  \n",
    "  Use the hash symbol `#` for single-line comments.  \n",
    "  Comments are not executed and are used to explain the code to humans.\n",
    "\n",
    "\n",
    "## Step-by-Step Syntax Examples\n",
    "\n",
    "### Indentation\n",
    "\n",
    "`x = 10\n",
    "if x > 5:\n",
    "    print(\"x is greater than 5\")`\n",
    "\n",
    "The print() line is indented to show it belongs to the if block.\n",
    "Incorrect indentation will cause an error.\n",
    "\n",
    "## Comments\n",
    "### This is a comment explaining what the next line does\n",
    "`print(\"Hello, world!\")` # prints a message\n",
    "Comments help others (and your future self!) understand your code.\n",
    "\n",
    "\n",
    "\n",
    "## Styling Best Practices\n",
    "PEP 8 – Python’s Official Style Guide\n",
    "PEP 8 is the most widely followed convention in the Python community. It encourages:\n",
    "\n",
    "- Indentation: Use 4 spaces per indentation level.\n",
    "- Line Length: Keep lines under 79 characters.\n",
    "-  Naming: Use snake_case for variables and functions.\n",
    "- Whitespace: Avoid unnecessary whitespace inside brackets or before commas.\n",
    "Read the full PEP 8 guide here:  [PEP 8 – Style Guide for Python Code](https://peps.python.org/pep-0008/)\n",
    "\n",
    "\n",
    "\n",
    "## The Hitchhiker’s Guide to Python\n",
    "This is a great unofficial resource that extends beyond PEP 8 with practical advice:\n",
    "\n",
    "- Explicit is better than implicit — write clear code, even if it takes more lines.\n",
    "- One statement per line — don't cram multiple commands into one line.\n",
    "Explore more here: [The Hitchhiker's Guide to Python](https://docs.python-guide.org/)\n",
    "\n"
   ]
  },
  {
   "cell_type": "markdown",
   "id": "b267d42b",
   "metadata": {},
   "source": [
    "## Prompt:\n",
    "\n",
    "Could you suggest three different Python implementations of the Hello World program to emphasise, respectively, principles of simplicity, security, and inclusion? Please explain step-by-step highlighting any key aspects.\n",
    "\n",
    "### 1. Simplicity\n",
    "Code Example:\n"
   ]
  },
  {
   "cell_type": "code",
   "execution_count": 1,
   "id": "7afcd5a2",
   "metadata": {},
   "outputs": [
    {
     "name": "stdout",
     "output_type": "stream",
     "text": [
      "Hello, world!\n"
     ]
    }
   ],
   "source": [
    "print(\"Hello, world!\")"
   ]
  },
  {
   "cell_type": "markdown",
   "id": "8715f134",
   "metadata": {},
   "source": [
    "##### Explanation:\n",
    "Single Line: The code is straightforward and concise, consisting of a single line.\n",
    "Built-in Function: `print()` is a built-in function that outputs text to the screen.\n",
    "Readability: The code is easy to read and understand, making it accessible to beginners.\n"
   ]
  },
  {
   "cell_type": "markdown",
   "id": "c9a0689b",
   "metadata": {},
   "source": [
    "### 2. Security\n",
    "Code Example:\n"
   ]
  },
  {
   "cell_type": "code",
   "execution_count": null,
   "id": "a6e9fa36",
   "metadata": {},
   "outputs": [],
   "source": [
    "import logging\n",
    "\n",
    "logging.basicConfig(level=logging.INFO)\n",
    "\n",
    "def secure_print(message):\n",
    "    if isinstance(message, str):\n",
    "        logging.info(message)\n",
    "    else:\n",
    "        logging.warning(\"Invalid message type: expected a string.\")\n",
    "\n",
    "secure_print(\"Hello, world!\")\n"
   ]
  },
  {
   "cell_type": "markdown",
   "id": "86e291f4",
   "metadata": {},
   "source": [
    "#### Explanation:\n",
    "\n",
    "Logging: Uses the logging module to securely print messages, which is more secure than using `print()` directly.\n",
    "Function Definition: `secure_print(message)` ensures that only strings are printed, preventing potential security issues.\n",
    "Input Validation: Checks if message is a string before printing, enhancing security by avoiding unexpected input types.\n"
   ]
  },
  {
   "cell_type": "markdown",
   "id": "8f6ba7e7",
   "metadata": {},
   "source": [
    "### 3. Inclusion\n",
    "Code Example:"
   ]
  },
  {
   "cell_type": "code",
   "execution_count": 4,
   "id": "cee00aee",
   "metadata": {},
   "outputs": [
    {
     "name": "stdout",
     "output_type": "stream",
     "text": [
      "Hello, world!\n",
      "¡Hola, mundo!\n",
      "Привіт, світ!\n",
      "مرحبا بالعالم\n",
      "¡Hola, mundo!\n"
     ]
    }
   ],
   "source": [
    "def inclusive_print(language=\"en\"):\n",
    "    translations = {\n",
    "        \"en\": \"Hello, world!\",\n",
    "        \"es\": \"¡Hola, mundo!\",\n",
    "        \"fr\": \"Bonjour, le monde!\",\n",
    "        \"uk\": \"Привіт, світ!\",\n",
    "        \"ar\": \"مرحبا بالعالم\"\n",
    "    }\n",
    "\n",
    "    message = translations.get(language, translations[\"en\"])\n",
    "    print(message)\n",
    "inclusive_print(\"en\")\n",
    "inclusive_print(\"es\")\n",
    "inclusive_print(\"uk\")\n",
    "inclusive_print(\"ar\")\n",
    "inclusive_print(\"es\")"
   ]
  },
  {
   "cell_type": "markdown",
   "id": "3a6c1755",
   "metadata": {},
   "source": [
    "#### Explanation:\n",
    "\n",
    "Function Definition: `inclusive_print(message, language=\"en\")` allows printing messages in different languages.\n",
    "Translations Dictionary: translations contains translations for `\"Hello, world!\"` in multiple languages.\n",
    "Default Language: Defaults to English if no language is specified.\n",
    "Inclusivity: Supports multiple languages, promoting inclusivity and accessibility for non-English speakers.\n",
    "Summary\n",
    "By implementing these principles, you can write Python code that is simple, secure, and inclusive. \n",
    "Each example highlights key aspects:\n",
    "\n",
    "#### Simplicity: \n",
    "Focuses on readability and ease of understanding.\n",
    "#### Security: \n",
    "Emphasizes safe coding practices and input validation.\n",
    "#### Inclusion: \n",
    "Promotes accessibility and supports multiple languages."
   ]
  },
  {
   "cell_type": "code",
   "execution_count": 2,
   "id": "727fcf9e",
   "metadata": {},
   "outputs": [
    {
     "data": {
      "image/jpeg": "[encoded data removed]",
      "text/html": [
       "\n",
       "        <iframe\n",
       "            width=\"400\"\n",
       "            height=\"300\"\n",
       "            src=\"https://www.youtube.com/embed/ZHgyQGoeaB0\"\n",
       "            frameborder=\"0\"\n",
       "            allowfullscreen\n",
       "            \n",
       "        ></iframe>\n",
       "        "
      ],
      "text/plain": [
       "<IPython.lib.display.YouTubeVideo at 0x78f1e9feab40>"
      ]
     },
     "execution_count": 2,
     "metadata": {},
     "output_type": "execute_result"
    }
   ],
   "source": [
    "from IPython.display import *\n",
    "video_ID = \"ZHgyQGoeaB0\"\n",
    "YouTubeVideo(video_ID)"
   ]
  },
  {
   "cell_type": "code",
   "execution_count": null,
   "id": "e109ab9c",
   "metadata": {},
   "outputs": [
    {
     "name": "stdout",
     "output_type": "stream",
     "text": [
      "Shall we hunt down an old website?\n",
      "Sorry, could not find the site.\n"
     ]
    }
   ],
   "source": [
    "import webbrowser  # library that used to open URLs in the default web browser\n",
    "import requests     # library that used to send HTTP requests to web servers\n",
    "\n",
    "# prints a welcome message to the user\n",
    "print(\"Shall we hunt down an old website?\")\n",
    "\n",
    "# opens a prompt the user to enter a website URL \n",
    "site = input(\"Type a website URL: \")\n",
    "\n",
    "# opens a prompt window to enter a specific date in the format YYYYMMDD\n",
    "era = input(\"Type year, month, and date, e.g., 20150613: \")\n",
    "\n",
    "# build the Wayback Machine API URL using the provided site and date\n",
    "url = \"http://archive.org/wayback/available?url=%s&timestamp=%s\" % (site, era)\n",
    "response = requests.get(url) # sends a GET request to the Wayback Machine API\n",
    "data = response.json() # parse the returned JSON data into a Python dictionary\n",
    "\n",
    "#try and catch will catch the errors in the code with a provided message\n",
    "try:\n",
    "    # Try to extract the URL of the closest archived snapshot\n",
    "    old_site = data[\"archived_snapshots\"][\"closest\"][\"url\"]\n",
    "    print(\"Found this copy: \", old_site)     # prints the URL of the archived site\n",
    "    print(\"It should appear in your browser.\")  # prints the user that the site will open in their browser\n",
    "    \n",
    "    webbrowser.open(old_site) # Open the archived site in the default web browser\n",
    "except:\n",
    "    # If the snapshot isn't found or an error occurs, show a message\n",
    "    print(\"Sorry, could not find the site.\")\n"
   ]
  },
  {
   "cell_type": "markdown",
   "id": "f616cffb",
   "metadata": {},
   "source": [
    "## What This Script Does\n",
    "\n",
    "1. **Greets the user** with a friendly message.\n",
    "\n",
    "2. **Prompts the user to input:**\n",
    "   - A website URL (e.g., `example.com`)\n",
    "   - A specific date in the format `YYYYMMDD` (e.g., `20150613` for June 13, 2015)\n",
    "\n",
    "3. **Sends a request** to the [Wayback Machine](https://archive.org/web/) API using the provided website and date.\n",
    "\n",
    "4. **Checks** if there's a saved version (a \"snapshot\") of the site close to the given date.\n",
    "\n",
    "### If a snapshot is found:\n",
    "- Displays the archived URL.\n",
    "- Opens the archived site in the default web browser.\n",
    "\n",
    "\n",
    "\n",
    "### If no snapshot is found:\n",
    "- Displays an error message saying the site could not be found.\n"
   ]
  },
  {
   "cell_type": "markdown",
   "id": "82d904f8",
   "metadata": {},
   "source": [
    "### There are only three lines that do not fall into any of these categories. Can you which these are and what they are meant to do? \n",
    "\n",
    "`import webbrowser`\n",
    "`import requests`\n",
    "`data = response.json()`\n",
    "\n",
    "because `import webbrowser` This line imports the webbrowser module, which lets Python open URLs in your default browser.\n",
    "It's setup code, not part of user interaction or Wayback-specific logic.\n",
    "\n",
    "`import requests`\n",
    "This line imports the requests library, which is used to send HTTP requests.\n",
    "Again, it's preparation, not logic.\n",
    "\n",
    "`data = response.json()`\n",
    "This line converts the HTTP response into a JSON dictionary.\n",
    "It's a data handling step, not interaction, decision-making, or output.\n",
    "\n",
    "\n"
   ]
  },
  {
   "cell_type": "markdown",
   "id": "ae37fe25",
   "metadata": {},
   "source": [
    "### For testing image library and audio"
   ]
  },
  {
   "cell_type": "code",
   "execution_count": 1,
   "id": "c38e4387",
   "metadata": {},
   "outputs": [
    {
     "data": {
      "image/jpeg": "[encoded data removed]",
      "text/plain": [
       "<IPython.core.display.Image object>"
      ]
     },
     "execution_count": 1,
     "metadata": {},
     "output_type": "execute_result"
    }
   ],
   "source": [
    "from IPython.display import Image\n",
    "\n",
    "Image(filename='brat.jpeg')"
   ]
  },
  {
   "cell_type": "markdown",
   "id": "e49caaaa",
   "metadata": {},
   "source": [
    "### Text Processing Example: Word Frequency Counting\n",
    "##### Concept: Given a text document, count the frequency of each word and display the\n",
    "most common words.\n",
    "##### Key Demonstration:\n",
    "- Easy access to raw data (plain text is human-readable).\n",
    "- Simple tokenization and counting operations.\n",
    "- Demonstrates basic natural language processing tasks (like cleaning and\n",
    "normalizing text)."
   ]
  },
  {
   "cell_type": "code",
   "execution_count": 3,
   "id": "7fe18981",
   "metadata": {},
   "outputs": [
    {
     "name": "stdout",
     "output_type": "stream",
     "text": [
      "he: 14\n",
      "in: 10\n",
      "as: 9\n",
      "to: 9\n",
      "do: 9\n",
      "an: 7\n",
      "on: 7\n",
      "ye: 7\n",
      "at: 7\n",
      "it: 6\n"
     ]
    }
   ],
   "source": [
    "from collections import Counter  # We'll use this to count how often each word appears\n",
    "import re                        # This helps us search the text using patterns (like finding words)\n",
    "\n",
    "def process_text(file_path):     # This function takes a file path and processes the text inside\n",
    "    with open(file_path, 'r', encoding='utf-8') as f:  # Open the file using UTF-8 so it can read most characters\n",
    "        text = f.read().lower()                        # Read all the text and convert it to lowercase for consistency\n",
    "\n",
    "    # Use a regular expression to find all the words and ignore punctuation\n",
    "    words = re.findall(r'\\w+', text)\n",
    "\n",
    "    # Count how often each word appears in the text\n",
    "    word_counts = Counter(words)\n",
    "\n",
    "    # Print the 10 most common words with how many times each one appears\n",
    "    for word, count in word_counts.most_common(10):\n",
    "        print(f\"{word}: {count}\")\n",
    "\n",
    "# Run the function on a file called \"some_text.txt\"\n",
    "process_text(\"dummy_text.txt\")\n"
   ]
  },
  {
   "cell_type": "markdown",
   "id": "019ebb9a",
   "metadata": {},
   "source": [
    "### Image Processing Example: Grayscale Conversion and Basic Feature Extraction\n",
    "##### Concept: \n",
    "Load an image, convert it to grayscale, and compute basic statistics such as average intensity.\n",
    "##### Key Demonstration:\n",
    "- Unlike text, images require pixel-level operations and numerical arrays (e.g.,\n",
    "NumPy arrays).\n",
    "- Simple transformations (e.g., grayscale) show how easily images can be\n",
    "manipulated.\n",
    "- Extracting basic features (average pixel intensity) can be analogous to\n",
    "calculating word frequencies in text—both reduce complex data into simple\n",
    "measurable quantities"
   ]
  },
  {
   "cell_type": "code",
   "execution_count": 5,
   "id": "b0522f6a",
   "metadata": {},
   "outputs": [
    {
     "name": "stdout",
     "output_type": "stream",
     "text": [
      "Average intensity: 155.77897777777778\n",
      "saved\n"
     ]
    }
   ],
   "source": [
    "from PIL import Image           # This library lets us open and edit images\n",
    "import numpy as np              # We'll use NumPy to handle the image as a numerical array\n",
    "\n",
    "def process_image(file_path):\n",
    "    # Open the image and convert it to grayscale (removes colour, leaves brightness)\n",
    "    img = Image.open(file_path).convert(\"L\")\n",
    "\n",
    "    # Turn the image into a NumPy array so we can do calculations on pixel values\n",
    "    img_array = np.array(img)\n",
    "\n",
    "    # Calculate the average brightness of all pixels\n",
    "    avg_intensity = np.mean(img_array)\n",
    "    print(f\"Average intensity: {avg_intensity}\")\n",
    "\n",
    "    # Save the grayscale image to a new file\n",
    "    img.save(\"processed_image.png\")\n",
    "    print(\"saved\")\n",
    "\n",
    "# Run the function using a sample image\n",
    "process_image(\"brat.jpeg\")\n",
    "\n"
   ]
  },
  {
   "cell_type": "markdown",
   "id": "02c2306a",
   "metadata": {},
   "source": [
    "### Audio Processing Example: Waveform and Frequency Analysis\n",
    "#### Concept: \n",
    "Load a short audio file, compute its amplitude envelope or average volume,\n",
    "and optionally compute a frequency spectrum to identify dominant frequencies.\n",
    "#### Key Demonstration:\n",
    "- Like images, audio is numeric data, but it is 1D (or low-dimensional) and timeseries based.\n",
    "- Tools such as pydub or librosa let you load audio and perform transformations.\n",
    "- Similar to text tokenization or image pixel-level processing, audio processing\n",
    "involves fundamental transformations (time-domain waveform, frequencydomain spectrum) before extracting features."
   ]
  },
  {
   "cell_type": "code",
   "execution_count": 7,
   "id": "3202323e",
   "metadata": {},
   "outputs": [
    {
     "name": "stdout",
     "output_type": "stream",
     "text": [
      "Average amplitude: 0.11859723925590515\n",
      "Dominant frequency bin: 2\n"
     ]
    }
   ],
   "source": [
    "import librosa                # Library for audio analysis\n",
    "import numpy as np            # NumPy helps with numerical calculations\n",
    "\n",
    "def process_audio(file_path):\n",
    "    # Load the audio file with its original sample rate\n",
    "    y, sr = librosa.load(file_path, sr=None)\n",
    "\n",
    "    # Calculate average amplitude (a basic way to estimate volume)\n",
    "    avg_amplitude = np.mean(np.abs(y))\n",
    "    print(f\"Average amplitude: {avg_amplitude}\")\n",
    "\n",
    "    # Perform a Short-Time Fourier Transform to analyze frequencies\n",
    "    D = np.abs(librosa.stft(y))              # Convert audio from time to frequency domain\n",
    "    freq_bins = np.mean(D, axis=1)           # Average the frequency intensities\n",
    "    dominant_frequency_bin = np.argmax(freq_bins)  # Find the most dominant frequency bin\n",
    "    print(f\"Dominant frequency bin: {dominant_frequency_bin}\")\n",
    "\n",
    "# Call the function with your audio file\n",
    "process_audio(\"sunflower-street-drumloop-85bpm-163900.wav\")\n"
   ]
  },
  {
   "cell_type": "code",
   "execution_count": null,
   "id": "049a81d9",
   "metadata": {},
   "outputs": [],
   "source": [
    "from IPython.display import Image\n",
    "# Image (“picture1.jpg”)"
   ]
  },
  {
   "cell_type": "code",
   "execution_count": null,
   "id": "48d57cbc",
   "metadata": {},
   "outputs": [],
   "source": [
    "from IPython.display import Audio  # Import only the Audio function\n",
    "\n",
    "# Play audio1.mid\n",
    "# Audio(\"audio1.mid\", autoplay=False)\n",
    "# Audio(\"audio2.ogg\", autoplay=False)\n"
   ]
  },
  {
   "cell_type": "markdown",
   "id": "ae8989d6",
   "metadata": {},
   "source": [
    "## Reflection: Displaying Images and Audio Using Libraries\n",
    "\n",
    "In this task, I learned how to use the `IPython.display` library to embed images and audio files directly into a Jupyter notebook.\n",
    "\n",
    "The image displayed as expected using `Image(\"picture1.jpg\")`, and it was a simple but effective way to bring visual content into my code. I also tried playing two audio files — audio1.mid and audio2.ogg. The .mid file didn’t work in my browser, which I found out could be due to limited support for that format. However, the .ogg file worked perfectly and even included a play button.\n",
    "\n",
    "This activity showed me how powerful and flexible Python can be when working with multimedia. It’s a great way to make notebooks more interactive and engaging, especially when sharing work with others in education or creative fields.\n",
    "\n",
    "\n"
   ]
  },
  {
   "cell_type": "markdown",
   "id": "b77dd88c",
   "metadata": {},
   "source": [
    "## Using `matplotlib` to View an Image as Numerical Data"
   ]
  },
  {
   "cell_type": "code",
   "execution_count": 8,
   "id": "b24af5a4",
   "metadata": {},
   "outputs": [
    {
     "name": "stdout",
     "output_type": "stream",
     "text": [
      "Numpy array of the image is:\n",
      " [[[138 205   1]\n",
      "  [138 205   1]\n",
      "  [138 205   1]\n",
      "  ...\n",
      "  [138 206   0]\n",
      "  [138 206   0]\n",
      "  [138 205   1]]\n",
      "\n",
      " [[138 205   1]\n",
      "  [138 205   1]\n",
      "  [138 205   1]\n",
      "  ...\n",
      "  [138 206   0]\n",
      "  [138 206   0]\n",
      "  [138 205   1]]\n",
      "\n",
      " [[138 205   1]\n",
      "  [138 205   1]\n",
      "  [138 205   1]\n",
      "  ...\n",
      "  [138 206   0]\n",
      "  [138 206   0]\n",
      "  [138 205   1]]\n",
      "\n",
      " ...\n",
      "\n",
      " [[138 206   0]\n",
      "  [138 206   0]\n",
      "  [138 206   0]\n",
      "  ...\n",
      "  [137 207   0]\n",
      "  [138 206   0]\n",
      "  [138 205   1]]\n",
      "\n",
      " [[138 206   0]\n",
      "  [138 206   0]\n",
      "  [138 206   0]\n",
      "  ...\n",
      "  [138 206   0]\n",
      "  [138 206   0]\n",
      "  [138 205   1]]\n",
      "\n",
      " [[138 205   1]\n",
      "  [138 205   1]\n",
      "  [138 205   1]\n",
      "  ...\n",
      "  [138 205   1]\n",
      "  [138 205   1]\n",
      "  [138 205   1]]]\n"
     ]
    },
    {
     "data": {
      "text/plain": [
       "<matplotlib.image.AxesImage at 0x70c912e9e480>"
      ]
     },
     "execution_count": 8,
     "metadata": {},
     "output_type": "execute_result"
    },
    {
     "data": {
      "image/png": "[encoded data removed]",
      "text/plain": [
       "<Figure size 640x480 with 1 Axes>"
      ]
     },
     "metadata": {},
     "output_type": "display_data"
    }
   ],
   "source": [
    "from matplotlib import pyplot\n",
    "\n",
    "# Load the image and store its pixel data as a numpy array\n",
    "test_picture = pyplot.imread(\"brat.jpeg\")\n",
    "\n",
    "# Display the numerical pixel data in the console\n",
    "print(\"Numpy array of the image is:\\n\", test_picture)\n",
    "\n",
    "# Display the actual image\n",
    "pyplot.imshow(test_picture)\n"
   ]
  },
  {
   "cell_type": "code",
   "execution_count": 9,
   "id": "2653c7da",
   "metadata": {},
   "outputs": [
    {
     "name": "stderr",
     "output_type": "stream",
     "text": [
      "Clipping input data to the valid range for imshow with RGB data ([0..1] for floats or [0..255] for integers). Got range [0.0..84.66666666666667].\n"
     ]
    },
    {
     "data": {
      "text/plain": [
       "<matplotlib.image.AxesImage at 0x70c912f9e090>"
      ]
     },
     "execution_count": 9,
     "metadata": {},
     "output_type": "execute_result"
    },
    {
     "data": {
      "image/png": "[encoded data removed]",
      "text/plain": [
       "<Figure size 640x480 with 1 Axes>"
      ]
     },
     "metadata": {},
     "output_type": "display_data"
    }
   ],
   "source": [
    "# Apply a simple transformation to reduce brightness\n",
    "test_picture_filtered = 2 * test_picture / 3\n",
    "\n",
    "# Display the transformed image\n",
    "pyplot.imshow(test_picture_filtered)\n"
   ]
  },
  {
   "cell_type": "markdown",
   "id": "94a2cabd",
   "metadata": {},
   "source": [
    "## Reflection: Image as Data\n",
    "\n",
    "After running the code above, I could see the raw numerical values that make up each pixel in the image. These were stored in a NumPy array, which makes it easy to apply mathematical transformations.\n",
    "\n",
    "When I applied the filter `2 * test_picture / 3`, the image appeared yellow instead of green. This is because the pixel intensity values were scaled down. It was interesting to observe how simple numerical operations can directly change the visual appearance of an image.\n",
    "\n",
    "This exercise helped me understand the idea that digital images are essentially structured numerical data, which can be analysed and transformed just like any other dataset.\n"
   ]
  },
  {
   "cell_type": "markdown",
   "id": "28f6c6e5",
   "metadata": {},
   "source": []
  }
 ],
 "metadata": {
  "kernelspec": {
   "display_name": "Python 3",
   "language": "python",
   "name": "python3"
  },
  "language_info": {
   "codemirror_mode": {
    "name": "ipython",
    "version": 3
   },
   "file_extension": ".py",
   "mimetype": "text/x-python",
   "name": "python",
   "nbconvert_exporter": "python",
   "pygments_lexer": "ipython3",
   "version": "3.12.1"
  }
 },
 "nbformat": 4,
 "nbformat_minor": 5
}
